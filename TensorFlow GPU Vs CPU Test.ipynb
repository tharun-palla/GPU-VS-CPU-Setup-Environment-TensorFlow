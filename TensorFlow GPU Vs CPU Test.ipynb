{
 "cells": [
  {
   "cell_type": "code",
   "execution_count": 26,
   "id": "b467fd9d",
   "metadata": {},
   "outputs": [
    {
     "name": "stdout",
     "output_type": "stream",
     "text": [
      "GPU Available True\n",
      "Number of GPUs Available 1\n",
      "1 Physical GPUs, 1 Logical GPU\n",
      "{'current': 1200001792, 'peak': 1600001792}\n"
     ]
    }
   ],
   "source": [
    "import tensorflow as tf\n",
    "print(\"GPU Available\",tf.test.is_gpu_available())\n",
    "print(\"Number of GPUs Available\",len(tf.config.list_physical_devices('GPU')))\n",
    "\n",
    "\n",
    "gpus = tf.config.list_physical_devices('GPU')\n",
    "if gpus:\n",
    "  # Restrict TensorFlow to only use the first GPU\n",
    "  try:\n",
    "    tf.config.set_visible_devices(gpus[0], 'GPU')\n",
    "    logical_gpus = tf.config.list_logical_devices('GPU')\n",
    "    print(len(gpus), \"Physical GPUs,\", len(logical_gpus), \"Logical GPU\")\n",
    "  except RuntimeError as e:\n",
    "    # Visible devices must be set before GPUs have been initialized\n",
    "    print(e)\n",
    "if gpus:\n",
    "  print(tf.config.experimental.get_memory_info('GPU:0'))\n",
    "\n"
   ]
  },
  {
   "cell_type": "code",
   "execution_count": 23,
   "id": "d95d444a",
   "metadata": {},
   "outputs": [
    {
     "name": "stdout",
     "output_type": "stream",
     "text": [
      "CPU time: 1.84 seconds\n",
      "GPU time: 0.0000000000 seconds\n"
     ]
    }
   ],
   "source": [
    "import tensorflow as tf\n",
    "import time\n",
    "\n",
    "# Define the computation graph\n",
    "x = tf.constant(1.0, shape=[10000, 10000])\n",
    "y = tf.constant(2.0, shape=[10000, 10000])\n",
    "z = tf.matmul(x, y)\n",
    "\n",
    "# Run the computation graph on a CPU\n",
    "with tf.device('/CPU:0'):\n",
    "    start_time = time.time()\n",
    "    tf.matmul(x, y)\n",
    "    end_time = time.time()\n",
    "\n",
    "print('CPU time: {:.2f} seconds'.format(end_time - start_time))\n",
    "\n",
    "# Run the computation graph on a GPU\n",
    "with tf.device('/GPU:0'):\n",
    "    start_time = time.time()\n",
    "    tf.matmul(x, y)\n",
    "    end_time = time.time()\n",
    "\n",
    "print('GPU time: {:.10f} seconds'.format(end_time - start_time))\n"
   ]
  }
 ],
 "metadata": {
  "kernelspec": {
   "display_name": "Python 3 (ipykernel)",
   "language": "python",
   "name": "python3"
  },
  "language_info": {
   "codemirror_mode": {
    "name": "ipython",
    "version": 3
   },
   "file_extension": ".py",
   "mimetype": "text/x-python",
   "name": "python",
   "nbconvert_exporter": "python",
   "pygments_lexer": "ipython3",
   "version": "3.9.17"
  }
 },
 "nbformat": 4,
 "nbformat_minor": 5
}
